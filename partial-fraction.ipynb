{
 "cells": [
  {
   "cell_type": "code",
   "execution_count": 25,
   "id": "28e11e49-3615-4a78-ae04-0615c32cad48",
   "metadata": {},
   "outputs": [],
   "source": [
    "import sympy\n",
    "from sympy.solvers import solve\n",
    "from sympy.abc import a, b, c\n",
    "x = sympy.Symbol(\"x\", real=True)"
   ]
  },
  {
   "cell_type": "code",
   "execution_count": 26,
   "id": "3ccb78ad-504f-496e-99bf-fa618e88f5b4",
   "metadata": {},
   "outputs": [],
   "source": [
    "bruch = []\n",
    "\n",
    "p = lambda x: x**3\n",
    "q = lambda x: (x-1)\n",
    "bruch.append([q, p])\n",
    "\n",
    "p = lambda x: x**4+x**2\n",
    "q = lambda x: x**4-1\n",
    "bruch.append([q, p])\n",
    "\n",
    "p = lambda x: x**2+x+1\n",
    "q = lambda x: x**2+1\n",
    "bruch.append([q, p])\n",
    "\n",
    "p = lambda x: 8*x\n",
    "q = lambda x: (x**2-1)*(x-1)**2\n",
    "bruch.append([q, p])\n",
    "\n",
    "p = lambda x: 1\n",
    "q = lambda x: (x**8-1)*(x**2+1)\n",
    "bruch.append([q, p])"
   ]
  },
  {
   "cell_type": "code",
   "execution_count": 27,
   "id": "649852cf-8c9e-4a37-ac82-2cb818384028",
   "metadata": {},
   "outputs": [
    {
     "name": "stdout",
     "output_type": "stream",
     "text": [
      "factors: {x - 1: 1, x - I: 2, x + sqrt(2)/2 - sqrt(2)*I/2: 1, x + sqrt(2)/2 + sqrt(2)*I/2: 1, x - sqrt(2)/2 - sqrt(2)*I/2: 1, x - sqrt(2)/2 + sqrt(2)*I/2: 1, x + I: 2, x + 1: 1}\n"
     ]
    },
    {
     "data": {
      "image/png": "[encoded data removed]",
      "text/latex": [
       "$\\displaystyle \\frac{A}{x - 1} + \\frac{J}{x + 1} + \\frac{B x + C}{\\left(x + \\frac{\\sqrt{2}}{2}\\right)^{2} + \\frac{1}{2}} + \\frac{D x + E}{\\left(x - \\frac{\\sqrt{2}}{2}\\right)^{2} + \\frac{1}{2}} + \\frac{F x + G}{x^{2} + 1} + \\frac{H x + I}{\\left(x^{2} + 1\\right)^{2}}$"
      ],
      "text/plain": [
       "  A       J        B⋅x + C         D⋅x + E      F⋅x + G    H⋅x + I \n",
       "───── + ───── + ───────────── + ───────────── + ─────── + ─────────\n",
       "x - 1   x + 1           2               2         2               2\n",
       "                ⎛    √2⎞    1   ⎛    √2⎞    1    x  + 1   ⎛ 2    ⎞ \n",
       "                ⎜x + ──⎟  + ─   ⎜x - ──⎟  + ─             ⎝x  + 1⎠ \n",
       "                ⎝    2 ⎠    2   ⎝    2 ⎠    2                      "
      ]
     },
     "execution_count": 27,
     "metadata": {},
     "output_type": "execute_result"
    }
   ],
   "source": [
    "for item in bruch:\n",
    "    q, p = item\n",
    "    _, factors = sympy.factor_list(q(x), x, extension=[sympy.I, sympy.sqrt(2)])\n",
    "    facts = {}\n",
    "    for factor in factors:\n",
    "        if factor[0] in facts:\n",
    "            facts[factor[0]] += factor[1]\n",
    "        else:\n",
    "            facts[factor[0]] = factor[1]\n",
    "\n",
    "letters = map(chr, range(65, 123))\n",
    "\n",
    "symbols = []\n",
    "\n",
    "term = 0\n",
    "print(f\"factors: {facts}\")\n",
    "for fact, mult in facts.items():\n",
    "    nst = solve(fact - x- a, a)[0]\n",
    "    if nst.is_real:\n",
    "        for i in range(mult):\n",
    "            symbol = sympy.Symbol(next(letters))\n",
    "            term += symbol / (fact**(i+1))\n",
    "            symbols.append(symbol)\n",
    "    elif sympy.im(nst) > 0:\n",
    "        result = solve(fact * sympy.conjugate(fact) - ((x-b)**2 - c), b,c, dict=True)[0]\n",
    "        beta, gamma = result[b], result[c]\n",
    "        for i in range(mult):\n",
    "            A = sympy.Symbol(next(letters))\n",
    "            B = sympy.Symbol(next(letters))\n",
    "            symbols.append(A)\n",
    "            symbols.append(B)\n",
    "            term += (A*x+B)/(((x-beta)**2-gamma))**(i+1)\n",
    "term"
   ]
  },
  {
   "cell_type": "code",
   "execution_count": 28,
   "id": "0b8d35f7-6b82-45a3-b4f4-50e895b79365",
   "metadata": {},
   "outputs": [
    {
     "data": {
      "image/png": "[encoded data removed]",
      "text/latex": [
       "$\\displaystyle \\left\\{ A : \\frac{1}{16}, \\  B : - \\frac{\\sqrt{2}}{8}, \\  C : - \\frac{1}{8}, \\  D : \\frac{\\sqrt{2}}{8}, \\  E : - \\frac{1}{8}, \\  F : 0, \\  G : - \\frac{3}{8}, \\  H : 0, \\  I : - \\frac{1}{4}, \\  J : - \\frac{1}{16}\\right\\}$"
      ],
      "text/plain": [
       "⎧            -√2               √2                                             \n",
       "⎨A: 1/16, B: ────, C: -1/8, D: ──, E: -1/8, F: 0, G: -3/8, H: 0, I: -1/4, J: -\n",
       "⎩             8                8                                              \n",
       "\n",
       "    ⎫\n",
       "1/16⎬\n",
       "    ⎭"
      ]
     },
     "execution_count": 28,
     "metadata": {},
     "output_type": "execute_result"
    }
   ],
   "source": [
    "result = solve(term - p(x)/q(x), symbols)\n",
    "result"
   ]
  },
  {
   "cell_type": "code",
   "execution_count": 29,
   "id": "aea53cb0-64a2-411d-ac1f-61388cc89dd5",
   "metadata": {},
   "outputs": [
    {
     "data": {
      "image/png": "[encoded data removed]",
      "text/latex": [
       "$\\displaystyle \\frac{1}{x^{10} + x^{8} - x^{2} - 1}$"
      ],
      "text/plain": [
       "        1        \n",
       "─────────────────\n",
       " 10    8    2    \n",
       "x   + x  - x  - 1"
      ]
     },
     "execution_count": 29,
     "metadata": {},
     "output_type": "execute_result"
    }
   ],
   "source": [
    "sympy.simplify(p(x) * term.subs(result))"
   ]
  },
  {
   "cell_type": "code",
   "execution_count": 30,
   "metadata": {},
   "outputs": [
    {
     "data": {
      "image/png": "[encoded data removed]",
      "text/latex": [
       "$\\displaystyle \\int \\frac{x^{3}}{x - 1}\\, dx = \\frac{x^{3}}{3} + \\frac{x^{2}}{2} + x + \\log{\\left(x - 1 \\right)}$"
      ],
      "text/plain": [
       "⌠                                    \n",
       "⎮    3        3    2                 \n",
       "⎮   x        x    x                  \n",
       "⎮ ───── dx = ── + ── + x + log(x - 1)\n",
       "⎮ x - 1      3    2                  \n",
       "⌡                                    "
      ]
     },
     "metadata": {},
     "output_type": "display_data"
    },
    {
     "data": {
      "image/png": "[encoded data removed]",
      "text/latex": [
       "$\\displaystyle \\int \\frac{x^{4} + x^{2}}{x^{4} - 1}\\, dx = x + \\frac{\\log{\\left(x - 1 \\right)}}{2} - \\frac{\\log{\\left(x + 1 \\right)}}{2}$"
      ],
      "text/plain": [
       "⌠                                         \n",
       "⎮  4    2                                 \n",
       "⎮ x  + x           log(x - 1)   log(x + 1)\n",
       "⎮ ─────── dx = x + ────────── - ──────────\n",
       "⎮   4                  2            2     \n",
       "⎮  x  - 1                                 \n",
       "⌡                                         "
      ]
     },
     "metadata": {},
     "output_type": "display_data"
    },
    {
     "data": {
      "image/png": "[encoded data removed]",
      "text/latex": [
       "$\\displaystyle \\int \\frac{x^{2} + x + 1}{x^{2} + 1}\\, dx = x + \\frac{\\log{\\left(x^{2} + 1 \\right)}}{2}$"
      ],
      "text/plain": [
       "⌠                                \n",
       "⎮  2                     ⎛ 2    ⎞\n",
       "⎮ x  + x + 1          log⎝x  + 1⎠\n",
       "⎮ ────────── dx = x + ───────────\n",
       "⎮    2                     2     \n",
       "⎮   x  + 1                       \n",
       "⌡                                "
      ]
     },
     "metadata": {},
     "output_type": "display_data"
    },
    {
     "data": {
      "image/png": "[encoded data removed]",
      "text/latex": [
       "$\\displaystyle \\int \\frac{8 x}{\\left(x - 1\\right)^{2} \\left(x^{2} - 1\\right)}\\, dx = - \\frac{8 x}{4 x^{2} - 8 x + 4} - \\log{\\left(x - 1 \\right)} + \\log{\\left(x + 1 \\right)}$"
      ],
      "text/plain": [
       "⌠                                                                  \n",
       "⎮        8⋅x                    8⋅x                                \n",
       "⎮ ───────────────── dx = - ────────────── - log(x - 1) + log(x + 1)\n",
       "⎮        2 ⎛ 2    ⎞           2                                    \n",
       "⎮ (x - 1) ⋅⎝x  - 1⎠        4⋅x  - 8⋅x + 4                          \n",
       "⌡                                                                  "
      ]
     },
     "metadata": {},
     "output_type": "display_data"
    },
    {
     "data": {
      "image/png": "[encoded data removed]",
      "text/latex": [
       "$\\displaystyle \\int \\frac{1}{\\left(x^{2} + 1\\right) \\left(x^{8} - 1\\right)}\\, dx = - \\frac{x}{8 x^{2} + 8} + \\frac{\\log{\\left(x - 1 \\right)}}{16} - \\frac{\\log{\\left(x + 1 \\right)}}{16} + \\frac{\\sqrt{2} \\log{\\left(x^{2} - \\sqrt{2} x + 1 \\right)}}{16} - \\frac{\\sqrt{2} \\log{\\left(x^{2} + \\sqrt{2} x + 1 \\right)}}{16} - \\frac{\\operatorname{atan}{\\left(x \\right)}}{2}$"
      ],
      "text/plain": [
       "⌠                                                                     ⎛ 2     \n",
       "⎮         1                   x       log(x - 1)   log(x + 1)   √2⋅log⎝x  - √2\n",
       "⎮ ───────────────── dx = - ──────── + ────────── - ────────── + ──────────────\n",
       "⎮ ⎛ 2    ⎞ ⎛ 8    ⎞           2           16           16                 16  \n",
       "⎮ ⎝x  + 1⎠⋅⎝x  - 1⎠        8⋅x  + 8                                           \n",
       "⌡                                                                             \n",
       "\n",
       "      ⎞         ⎛ 2           ⎞          \n",
       "⋅x + 1⎠   √2⋅log⎝x  + √2⋅x + 1⎠   atan(x)\n",
       "─────── - ───────────────────── - ───────\n",
       "                    16               2   \n",
       "                                         \n",
       "                                         "
      ]
     },
     "metadata": {},
     "output_type": "display_data"
    }
   ],
   "source": [
    "import sympy as sp\n",
    "sp.init_printing()\n",
    "\n",
    "x = sp.symbols('x')\n",
    "f1 = x**3 / (x - 1)\n",
    "f2 = (x**4 + x**2) / (x**4 - 1)\n",
    "f3 = (x**2 + x + 1) / (x**2 + 1)\n",
    "f4 = 8*x / ((x**2 - 1)*(x - 1)**2)\n",
    "f5 = 1 / ((x**8 - 1)*(x**2 + 1))\n",
    "\n",
    "F1 = sp.integrate(f1, x)\n",
    "F2 = sp.integrate(f2, x)\n",
    "F3 = sp.integrate(f3, x)\n",
    "F4 = sp.integrate(f4, x)\n",
    "F5 = sp.integrate(f5, x)\n",
    "\n",
    "display(sp.Eq(sp.Integral(f1, x), F1, evaluate=False))\n",
    "display(sp.Eq(sp.Integral(f2, x), F2, evaluate=False))\n",
    "display(sp.Eq(sp.Integral(f3, x), F3, evaluate=False))\n",
    "display(sp.Eq(sp.Integral(f4, x), F4, evaluate=False))\n",
    "display(sp.Eq(sp.Integral(f5, x), F5, evaluate=False))"
   ]
  }
 ],
 "metadata": {
  "kernelspec": {
   "display_name": "base",
   "language": "python",
   "name": "python3"
  },
  "language_info": {
   "codemirror_mode": {
    "name": "ipython",
    "version": 3
   },
   "file_extension": ".py",
   "mimetype": "text/x-python",
   "name": "python",
   "nbconvert_exporter": "python",
   "pygments_lexer": "ipython3",
   "version": "3.11.7"
  }
 },
 "nbformat": 4,
 "nbformat_minor": 5
}
